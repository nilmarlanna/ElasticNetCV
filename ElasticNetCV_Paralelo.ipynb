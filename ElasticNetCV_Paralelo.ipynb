{
  "nbformat": 4,
  "nbformat_minor": 0,
  "metadata": {
    "colab": {
      "name": "ElasticNetCV_Paralelo.ipynb",
      "provenance": [],
      "toc_visible": true,
      "include_colab_link": true
    },
    "kernelspec": {
      "name": "python3",
      "display_name": "Python 3"
    },
    "language_info": {
      "name": "python"
    }
  },
  "cells": [
    {
      "cell_type": "markdown",
      "metadata": {
        "id": "view-in-github",
        "colab_type": "text"
      },
      "source": [
        "<a href=\"https://colab.research.google.com/github/nilmarlanna/ElasticNetCV/blob/main/ElasticNetCV_Paralelo.ipynb\" target=\"_parent\"><img src=\"https://colab.research.google.com/assets/colab-badge.svg\" alt=\"Open In Colab\"/></a>"
      ]
    },
    {
      "cell_type": "markdown",
      "metadata": {
        "id": "TB6zv7pc8X4Q"
      },
      "source": [
        "# ITA 2021 - ElasticNetCV Paralelo\n"
      ]
    },
    {
      "cell_type": "markdown",
      "metadata": {
        "id": "w5RyEztRPcVM"
      },
      "source": [
        "## Resumo/Roadmap"
      ]
    },
    {
      "cell_type": "markdown",
      "metadata": {
        "id": "JGMbDaN-PiLR"
      },
      "source": [
        "*   Normalização: Nenhuma\n",
        "*   Algoritmo: ElasticNetCV (LightGBM-based)\n",
        "*   Método \"paralelo\": cada variável-alvo será trabalhada independentemente."
      ]
    },
    {
      "cell_type": "markdown",
      "metadata": {
        "id": "XbSMbyc9bHgK"
      },
      "source": [
        "## Configuração do Cliente DataJudge"
      ]
    },
    {
      "cell_type": "code",
      "metadata": {
        "id": "stcwekI1bj6M",
        "colab": {
          "base_uri": "https://localhost:8080/"
        },
        "outputId": "b7c6a552-1cdd-4b29-ac49-15faae5e30ee"
      },
      "source": [
        "# Instalando a API do Cliente Python do sistema DataJudge\n",
        "!pip install datajudge-client"
      ],
      "execution_count": null,
      "outputs": [
        {
          "output_type": "stream",
          "text": [
            "Collecting datajudge-client\n",
            "  Downloading https://files.pythonhosted.org/packages/d8/17/2db923c248b6950fa8a1612a2e085d35432ee4136b897d3dc8321446bcab/datajudge_client-1.0.2-py3-none-any.whl\n",
            "Requirement already satisfied: requests in /usr/local/lib/python3.7/dist-packages (from datajudge-client) (2.23.0)\n",
            "Requirement already satisfied: chardet<4,>=3.0.2 in /usr/local/lib/python3.7/dist-packages (from requests->datajudge-client) (3.0.4)\n",
            "Requirement already satisfied: urllib3!=1.25.0,!=1.25.1,<1.26,>=1.21.1 in /usr/local/lib/python3.7/dist-packages (from requests->datajudge-client) (1.24.3)\n",
            "Requirement already satisfied: certifi>=2017.4.17 in /usr/local/lib/python3.7/dist-packages (from requests->datajudge-client) (2020.12.5)\n",
            "Requirement already satisfied: idna<3,>=2.5 in /usr/local/lib/python3.7/dist-packages (from requests->datajudge-client) (2.10)\n",
            "Installing collected packages: datajudge-client\n",
            "Successfully installed datajudge-client-1.0.2\n"
          ],
          "name": "stdout"
        }
      ]
    },
    {
      "cell_type": "code",
      "metadata": {
        "colab": {
          "base_uri": "https://localhost:8080/"
        },
        "id": "AHhpOLTXbjzJ",
        "outputId": "8235ee90-4c28-4137-ea98-7ea95277beed"
      },
      "source": [
        "# Configurando a chave APIcomo variável de ambiente\n",
        "# Chave da equipe Bust\n",
        "%env TEAM_KEY = MfMcBlDPmstwUu6KbOvvMID9McmgAyiR"
      ],
      "execution_count": null,
      "outputs": [
        {
          "output_type": "stream",
          "text": [
            "env: TEAM_KEY=MfMcBlDPmstwUu6KbOvvMID9McmgAyiR\n"
          ],
          "name": "stdout"
        }
      ]
    },
    {
      "cell_type": "code",
      "metadata": {
        "colab": {
          "base_uri": "https://localhost:8080/"
        },
        "id": "k8pKk_LLe7Ev",
        "outputId": "2525c42a-fa59-464c-f0b6-72750529fdc9"
      },
      "source": [
        "# Testando o acesso com a chave\n",
        "!python -m datajudge-client --key $TEAM_KEY teamname"
      ],
      "execution_count": null,
      "outputs": [
        {
          "output_type": "stream",
          "text": [
            "\"Bust UFSJ\"\n"
          ],
          "name": "stdout"
        }
      ]
    },
    {
      "cell_type": "markdown",
      "metadata": {
        "id": "b0r2uFXU8dXH"
      },
      "source": [
        "## Imports"
      ]
    },
    {
      "cell_type": "code",
      "metadata": {
        "id": "iz4X0BVlqlLm"
      },
      "source": [
        "import numpy as np              # operações numéricas\n",
        "import pandas as pd             # manipulação de dados em dataframes\n",
        "import matplotlib.pyplot as plt # plots gráficos\n",
        "#import seaborn as sns           # plots estatísticos\n",
        "\n",
        "import os   # funções de sistema operacional"
      ],
      "execution_count": null,
      "outputs": []
    },
    {
      "cell_type": "code",
      "metadata": {
        "id": "xigFUzceQPzB",
        "colab": {
          "base_uri": "https://localhost:8080/"
        },
        "outputId": "3b6a5791-6409-449f-b18c-e998acdc9758"
      },
      "source": [
        "# Montar o Drive (com autenticação)\n",
        "if not os.path.exists('/content/drive/'):\n",
        "  from google.colab import drive\n",
        "  drive.mount('/content/drive/')"
      ],
      "execution_count": null,
      "outputs": [
        {
          "output_type": "stream",
          "text": [
            "Mounted at /content/drive/\n"
          ],
          "name": "stdout"
        }
      ]
    },
    {
      "cell_type": "code",
      "metadata": {
        "colab": {
          "base_uri": "https://localhost:8080/"
        },
        "id": "Qlq_Q5GsNtHL",
        "outputId": "f60e1dda-5bd3-4555-e66e-29a58a6b30e3"
      },
      "source": [
        "from google.colab import drive\n",
        "drive.mount('/content/drive')"
      ],
      "execution_count": null,
      "outputs": [
        {
          "output_type": "stream",
          "text": [
            "Drive already mounted at /content/drive; to attempt to forcibly remount, call drive.mount(\"/content/drive\", force_remount=True).\n"
          ],
          "name": "stdout"
        }
      ]
    },
    {
      "cell_type": "markdown",
      "metadata": {
        "id": "fQPM7au19HIY"
      },
      "source": [
        "## Data Gathering"
      ]
    },
    {
      "cell_type": "code",
      "metadata": {
        "id": "5gV4vIPF9IuE"
      },
      "source": [
        "# Coletando dados de treino e teste para dataset pandas\n",
        "train_path = '/content/drive/MyDrive/Competição_ITA/Dados/public-train.csv'\n",
        "test_path  = '/content/drive/MyDrive/Competição_ITA/Dados/public-test.csv'\n",
        "\n",
        "df_train = pd.read_csv(train_path)\n",
        "df_test  = pd.read_csv(test_path)"
      ],
      "execution_count": null,
      "outputs": []
    },
    {
      "cell_type": "code",
      "metadata": {
        "colab": {
          "base_uri": "https://localhost:8080/"
        },
        "id": "q6NCohsvRCRm",
        "outputId": "48a140bc-932e-4237-f191-58a5863ba4ca"
      },
      "source": [
        "df_train.head(), df_test.head()"
      ],
      "execution_count": null,
      "outputs": [
        {
          "output_type": "execute_result",
          "data": {
            "text/plain": [
              "(     n    p    f   x   y  ...   l4   e1   e2  cent_price_cor  cent_trans_cor\n",
              " 0  709  0.7  0.2  16  12  ...  1.6  1.5  2.6          -0.169           0.375\n",
              " 1  921  0.6  0.3  19  17  ...  1.8  0.6  0.4          -0.075           0.234\n",
              " 2  177  0.8  0.4  14  12  ...  0.6  2.7  0.3          -0.177           0.389\n",
              " 3  415  0.7  0.5  24  11  ...  1.1  0.5  0.1          -0.102           0.358\n",
              " 4  802  0.8  0.4  21  10  ...  1.1  2.0  0.6          -0.034           0.180\n",
              " \n",
              " [5 rows x 28 columns],\n",
              "    id    n    p    f   x   y  z  ...   g2     l1   l2     l3   l4   e1   e2\n",
              " 0   1  558  0.5  0.2  28  21  2  ...  1.8  0.149  2.0  0.078  1.7  0.5  2.9\n",
              " 1   2  910  0.9  0.3  28  19  9  ...  1.0  0.086  0.8  0.030  0.8  0.2  1.6\n",
              " 2   3  213  0.8  0.5  21  15  8  ...  0.7  0.019  1.4  0.016  1.2  2.6  2.4\n",
              " 3   4  654  0.7  0.5  14  15  2  ...  1.3  0.110  0.8  0.006  1.7  0.2  1.7\n",
              " 4   5  672  0.7  0.5  24  10  5  ...  0.9  0.148  1.9  0.038  1.3  1.1  2.8\n",
              " \n",
              " [5 rows x 27 columns])"
            ]
          },
          "metadata": {
            "tags": []
          },
          "execution_count": 10
        }
      ]
    },
    {
      "cell_type": "markdown",
      "metadata": {
        "id": "imbhEDd5RiNd"
      },
      "source": [
        "## Análise Rápida"
      ]
    },
    {
      "cell_type": "code",
      "metadata": {
        "id": "qheLuaZ0RmMu",
        "colab": {
          "base_uri": "https://localhost:8080/"
        },
        "outputId": "b32074f1-2fff-4520-d73e-2f10cdad314f"
      },
      "source": [
        "# Espaço para uma eventual análise dos dados\n",
        "df_train['p'].skew()  # Teste de normalidade"
      ],
      "execution_count": null,
      "outputs": [
        {
          "output_type": "execute_result",
          "data": {
            "text/plain": [
              "-0.007356222293995963"
            ]
          },
          "metadata": {
            "tags": []
          },
          "execution_count": 11
        }
      ]
    },
    {
      "cell_type": "markdown",
      "metadata": {
        "id": "NlkCDi7AS0p7"
      },
      "source": [
        "## Data Preparation"
      ]
    },
    {
      "cell_type": "code",
      "metadata": {
        "id": "s_kJgILnaT6Q"
      },
      "source": [
        "#df_train.dtypes"
      ],
      "execution_count": null,
      "outputs": []
    },
    {
      "cell_type": "code",
      "metadata": {
        "id": "C3FkyNdsTE_o"
      },
      "source": [
        "# 2 variáveis-alvo: método simultâneo\n",
        "X_train = df_train.iloc[:,:-2].values\n",
        "y1_train = df_train.iloc[:,-2].values \n",
        "y2_train = df_train.iloc[:,-1].values\n",
        "\n",
        "X_test = df_test.iloc[:,1:].values"
      ],
      "execution_count": null,
      "outputs": []
    },
    {
      "cell_type": "markdown",
      "metadata": {
        "id": "7XDUQWuM9JYR"
      },
      "source": [
        "## Machine Learning"
      ]
    },
    {
      "cell_type": "code",
      "metadata": {
        "id": "yTRSb6_y-_MC"
      },
      "source": [
        "#Aplicando regressão de ElasticNet\n",
        "from sklearn.linear_model import ElasticNet"
      ],
      "execution_count": null,
      "outputs": []
    },
    {
      "cell_type": "code",
      "metadata": {
        "id": "a9PGrRgk--0D"
      },
      "source": [
        "# Treinando e Testando o modelo 1\n",
        "params = {}   # Configuração dos parâmetros do modelo\n",
        "reg_1 = ElasticNet(**params) # Método paralelo\n",
        "reg_1.fit(X_train, y1_train)       # Treino do modelo\n",
        "y1_pred = reg_1.predict(X_test)    # Teste do modelo"
      ],
      "execution_count": null,
      "outputs": []
    },
    {
      "cell_type": "code",
      "metadata": {
        "colab": {
          "base_uri": "https://localhost:8080/"
        },
        "id": "orv1ppFSg4q6",
        "outputId": "7b824256-0845-46f4-a73a-73b74150972a"
      },
      "source": [
        "y1_pred[:5]   # Prévia das predições"
      ],
      "execution_count": null,
      "outputs": [
        {
          "output_type": "execute_result",
          "data": {
            "text/plain": [
              "array([-0.20259146, -0.20259146, -0.20259146, -0.20259146, -0.20259146])"
            ]
          },
          "metadata": {
            "tags": []
          },
          "execution_count": 16
        }
      ]
    },
    {
      "cell_type": "code",
      "metadata": {
        "id": "9kUpJvJxYeUz"
      },
      "source": [
        "# Treinando e Testando o modelo 2\n",
        "params = {}   # Configuração dos parâmetros do modelo\n",
        "reg_2 = ElasticNet(**params) # Método paralelo\n",
        "reg_2.fit(X_train, y2_train)       # Treino do modelo\n",
        "y2_pred = reg_2.predict(X_test)    # Teste do modelo"
      ],
      "execution_count": null,
      "outputs": []
    },
    {
      "cell_type": "code",
      "metadata": {
        "colab": {
          "base_uri": "https://localhost:8080/"
        },
        "id": "emh25HPuYeU-",
        "outputId": "4501cb6f-2b72-4cc8-9231-5e495711280f"
      },
      "source": [
        "y2_pred[:5]   # Prévia das predições"
      ],
      "execution_count": null,
      "outputs": [
        {
          "output_type": "execute_result",
          "data": {
            "text/plain": [
              "array([0.36258559, 0.36258559, 0.36258559, 0.36258559, 0.36258559])"
            ]
          },
          "metadata": {
            "tags": []
          },
          "execution_count": 18
        }
      ]
    },
    {
      "cell_type": "markdown",
      "metadata": {
        "id": "Qv_XTMzke1W3"
      },
      "source": [
        "### Validation"
      ]
    },
    {
      "cell_type": "code",
      "metadata": {
        "id": "nsmb2fGemPjI"
      },
      "source": [
        "from sklearn.model_selection import cross_val_score, RepeatedKFold"
      ],
      "execution_count": null,
      "outputs": []
    },
    {
      "cell_type": "code",
      "metadata": {
        "colab": {
          "base_uri": "https://localhost:8080/"
        },
        "id": "HX26jNxABS0z",
        "outputId": "0f43c571-a28e-416f-a324-5f6e3a3516da"
      },
      "source": [
        "# Cross-validation - modelo 1\n",
        "cv = RepeatedKFold(n_splits=10, n_repeats=3, random_state=1)\n",
        "cross_val_score(reg_1, X_train, y1_train, scoring='neg_mean_absolute_error', cv=cv)"
      ],
      "execution_count": null,
      "outputs": [
        {
          "output_type": "execute_result",
          "data": {
            "text/plain": [
              "array([-0.09416687, -0.09554247, -0.09389441, -0.09590419, -0.09176559,\n",
              "       -0.09291462, -0.09069509, -0.09297327, -0.09365668, -0.09670209,\n",
              "       -0.09516628, -0.09244939, -0.09336376, -0.09303237, -0.09607021,\n",
              "       -0.0970344 , -0.0915351 , -0.09400542, -0.09149281, -0.09407563,\n",
              "       -0.09369188, -0.0917828 , -0.09399489, -0.09478755, -0.09569775,\n",
              "       -0.09374649, -0.09406886, -0.09490955, -0.09398424, -0.09167963])"
            ]
          },
          "metadata": {
            "tags": []
          },
          "execution_count": 20
        }
      ]
    },
    {
      "cell_type": "code",
      "metadata": {
        "colab": {
          "base_uri": "https://localhost:8080/"
        },
        "id": "OWgxVjCnbhl9",
        "outputId": "23c1d315-dda2-4172-e9b0-4fcc61ad3050"
      },
      "source": [
        "# Cross-validation - modelo 2\n",
        "cv = RepeatedKFold(n_splits=10, n_repeats=3, random_state=1)\n",
        "cross_val_score(reg_2, X_train, y2_train, scoring='neg_mean_absolute_error', cv=cv)"
      ],
      "execution_count": null,
      "outputs": [
        {
          "output_type": "execute_result",
          "data": {
            "text/plain": [
              "array([-0.09055544, -0.08956949, -0.09506712, -0.08830927, -0.08890692,\n",
              "       -0.0894374 , -0.09080902, -0.08906928, -0.09018622, -0.09239949,\n",
              "       -0.09185973, -0.08825579, -0.08815291, -0.09364605, -0.09265921,\n",
              "       -0.08973622, -0.0930363 , -0.0896821 , -0.0890401 , -0.08815219,\n",
              "       -0.09108634, -0.09236657, -0.09112687, -0.08879046, -0.09240657,\n",
              "       -0.0888718 , -0.09428225, -0.09043751, -0.0900846 , -0.08481902])"
            ]
          },
          "metadata": {
            "tags": []
          },
          "execution_count": 21
        }
      ]
    },
    {
      "cell_type": "markdown",
      "metadata": {
        "id": "XNJfuGhXlKH7"
      },
      "source": [
        "### Ajustando Hiperparâmetros"
      ]
    },
    {
      "cell_type": "code",
      "metadata": {
        "id": "LJYMJZaFnJPJ"
      },
      "source": [
        "from sklearn.model_selection import GridSearchCV"
      ],
      "execution_count": null,
      "outputs": []
    },
    {
      "cell_type": "code",
      "metadata": {
        "id": "NrifpgvvrIUq"
      },
      "source": [
        "params = {\n",
        "    'l1_ratio': [0.001, 0.1, 0.5, 0.7, 0.9, 0.95, 0.99, 1]\n",
        "}"
      ],
      "execution_count": null,
      "outputs": []
    },
    {
      "cell_type": "code",
      "metadata": {
        "id": "3cGVJYdarIRO"
      },
      "source": [
        "reg_1 = ElasticNet()\n",
        "reg_2 = ElasticNet()\n",
        "\n",
        "grid_1 = GridSearchCV(reg_1, params, scoring='neg_mean_absolute_error')\n",
        "grid_2 = GridSearchCV(reg_2, params, scoring='neg_mean_absolute_error')"
      ],
      "execution_count": null,
      "outputs": []
    },
    {
      "cell_type": "code",
      "metadata": {
        "colab": {
          "base_uri": "https://localhost:8080/"
        },
        "id": "LxgNtgXdrICh",
        "outputId": "082041a4-648d-498e-e0bb-04cd4ef76426"
      },
      "source": [
        "grid_1.fit(X_train, y=y1_train)\n",
        "grid_2.fit(X_train, y=y2_train)"
      ],
      "execution_count": null,
      "outputs": [
        {
          "output_type": "execute_result",
          "data": {
            "text/plain": [
              "GridSearchCV(cv=None, error_score=nan,\n",
              "             estimator=ElasticNet(alpha=1.0, copy_X=True, fit_intercept=True,\n",
              "                                  l1_ratio=0.5, max_iter=1000, normalize=False,\n",
              "                                  positive=False, precompute=False,\n",
              "                                  random_state=None, selection='cyclic',\n",
              "                                  tol=0.0001, warm_start=False),\n",
              "             iid='deprecated', n_jobs=None,\n",
              "             param_grid={'l1_ratio': [0.001, 0.1, 0.5, 0.7, 0.9, 0.95, 0.99,\n",
              "                                      1]},\n",
              "             pre_dispatch='2*n_jobs', refit=True, return_train_score=False,\n",
              "             scoring='neg_mean_absolute_error', verbose=0)"
            ]
          },
          "metadata": {
            "tags": []
          },
          "execution_count": 33
        }
      ]
    },
    {
      "cell_type": "code",
      "metadata": {
        "colab": {
          "base_uri": "https://localhost:8080/"
        },
        "id": "xbVImRp_yYVQ",
        "outputId": "00b00230-b0fb-4ec5-aa02-5522653d4e6d"
      },
      "source": [
        "grid_1.best_params_, grid_1.best_score_"
      ],
      "execution_count": null,
      "outputs": [
        {
          "output_type": "execute_result",
          "data": {
            "text/plain": [
              "({'l1_ratio': 0.5}, -0.0963571706241986)"
            ]
          },
          "metadata": {
            "tags": []
          },
          "execution_count": 34
        }
      ]
    },
    {
      "cell_type": "code",
      "metadata": {
        "colab": {
          "base_uri": "https://localhost:8080/"
        },
        "id": "h_rUYXBsyYR2",
        "outputId": "570a08c0-da15-4f6f-805b-1789cc5ba4e7"
      },
      "source": [
        "grid_2.best_params_, grid_2.best_score_"
      ],
      "execution_count": null,
      "outputs": [
        {
          "output_type": "execute_result",
          "data": {
            "text/plain": [
              "({'l1_ratio': 0.5}, -0.09234547957893882)"
            ]
          },
          "metadata": {
            "tags": []
          },
          "execution_count": 35
        }
      ]
    },
    {
      "cell_type": "code",
      "metadata": {
        "id": "0AA1ID257X2T"
      },
      "source": [
        "y1_pred_best = grid_1.predict(X_test)\n",
        "y2_pred_best = grid_2.predict(X_test)"
      ],
      "execution_count": null,
      "outputs": []
    },
    {
      "cell_type": "code",
      "metadata": {
        "colab": {
          "base_uri": "https://localhost:8080/"
        },
        "id": "kFsxy0u5BFEd",
        "outputId": "5ca3ef36-0a85-4eed-d15f-610d7d04cc56"
      },
      "source": [
        "y1_pred_best[:5], y2_pred_best[:5]"
      ],
      "execution_count": null,
      "outputs": [
        {
          "output_type": "execute_result",
          "data": {
            "text/plain": [
              "(array([-0.20259146, -0.20259146, -0.20259146, -0.20259146, -0.20259146]),\n",
              " array([0.36258559, 0.36258559, 0.36258559, 0.36258559, 0.36258559]))"
            ]
          },
          "metadata": {
            "tags": []
          },
          "execution_count": 37
        }
      ]
    },
    {
      "cell_type": "markdown",
      "metadata": {
        "id": "e66ioUa7iHp2"
      },
      "source": [
        "## Learning Curve"
      ]
    },
    {
      "cell_type": "code",
      "metadata": {
        "id": "wdCR1EfsiXc9"
      },
      "source": [
        "from sklearn.model_selection import learning_curve, ShuffleSplit"
      ],
      "execution_count": null,
      "outputs": []
    },
    {
      "cell_type": "code",
      "metadata": {
        "id": "qD7KmeA0iOeo"
      },
      "source": [
        "# Função para plotar curvas de aprendizado do modelo\n",
        "def plot_learning_curve(estimator, title, X, y, axes=None, ylim=None, cv=None,\n",
        "                        n_jobs=None, train_sizes=np.linspace(.1, 1.0, 5)):\n",
        "    \"\"\"\n",
        "    Generate 3 plots: the test and training learning curve, the training\n",
        "    samples vs fit times curve, the fit times vs score curve.\n",
        "\n",
        "    Parameters\n",
        "    ----------\n",
        "    estimator : estimator instance\n",
        "        An estimator instance implementing `fit` and `predict` methods which\n",
        "        will be cloned for each validation.\n",
        "\n",
        "    title : str\n",
        "        Title for the chart.\n",
        "\n",
        "    X : array-like of shape (n_samples, n_features)\n",
        "        Training vector, where ``n_samples`` is the number of samples and\n",
        "        ``n_features`` is the number of features.\n",
        "\n",
        "    y : array-like of shape (n_samples) or (n_samples, n_features)\n",
        "        Target relative to ``X`` for classification or regression;\n",
        "        None for unsupervised learning.\n",
        "\n",
        "    axes : array-like of shape (3,), default=None\n",
        "        Axes to use for plotting the curves.\n",
        "\n",
        "    ylim : tuple of shape (2,), default=None\n",
        "        Defines minimum and maximum y-values plotted, e.g. (ymin, ymax).\n",
        "\n",
        "    cv : int, cross-validation generator or an iterable, default=None\n",
        "        Determines the cross-validation splitting strategy.\n",
        "        Possible inputs for cv are:\n",
        "\n",
        "          - None, to use the default 5-fold cross-validation,\n",
        "          - integer, to specify the number of folds.\n",
        "          - :term:`CV splitter`,\n",
        "          - An iterable yielding (train, test) splits as arrays of indices.\n",
        "\n",
        "        For integer/None inputs, if ``y`` is binary or multiclass,\n",
        "        :class:`StratifiedKFold` used. If the estimator is not a classifier\n",
        "        or if ``y`` is neither binary nor multiclass, :class:`KFold` is used.\n",
        "\n",
        "        Refer :ref:`User Guide <cross_validation>` for the various\n",
        "        cross-validators that can be used here.\n",
        "\n",
        "    n_jobs : int or None, default=None\n",
        "        Number of jobs to run in parallel.\n",
        "        ``None`` means 1 unless in a :obj:`joblib.parallel_backend` context.\n",
        "        ``-1`` means using all processors. See :term:`Glossary <n_jobs>`\n",
        "        for more details.\n",
        "\n",
        "    train_sizes : array-like of shape (n_ticks,)\n",
        "        Relative or absolute numbers of training examples that will be used to\n",
        "        generate the learning curve. If the ``dtype`` is float, it is regarded\n",
        "        as a fraction of the maximum size of the training set (that is\n",
        "        determined by the selected validation method), i.e. it has to be within\n",
        "        (0, 1]. Otherwise it is interpreted as absolute sizes of the training\n",
        "        sets. Note that for classification the number of samples usually have\n",
        "        to be big enough to contain at least one sample from each class.\n",
        "        (default: np.linspace(0.1, 1.0, 5))\n",
        "    \"\"\"\n",
        "    # Configuração dos Eixos\n",
        "    if axes is None:\n",
        "        _, axes = plt.subplots(1, 3, figsize=(20, 5))\n",
        "\n",
        "    axes[0].set_title(title)\n",
        "    if ylim is not None:\n",
        "        axes[0].set_ylim(*ylim)\n",
        "    axes[0].set_xlabel(\"Training examples\")\n",
        "    axes[0].set_ylabel(\"Score\")\n",
        "\n",
        "    # Obtenção das curvas de aprendizado\n",
        "    train_sizes, train_scores, test_scores, fit_times, _ = \\\n",
        "        learning_curve(estimator, X, y, cv=cv, n_jobs=n_jobs,\n",
        "                       train_sizes=train_sizes,\n",
        "                       return_times=True)\n",
        "    train_scores_mean = np.mean(train_scores, axis=1)\n",
        "    train_scores_std = np.std(train_scores, axis=1)\n",
        "    test_scores_mean = np.mean(test_scores, axis=1)\n",
        "    test_scores_std = np.std(test_scores, axis=1)\n",
        "    fit_times_mean = np.mean(fit_times, axis=1)\n",
        "    fit_times_std = np.std(fit_times, axis=1)\n",
        "\n",
        "    # Plot learning curve\n",
        "    axes[0].grid()\n",
        "    axes[0].fill_between(train_sizes, train_scores_mean - train_scores_std,\n",
        "                         train_scores_mean + train_scores_std, alpha=0.1,\n",
        "                         color=\"r\")\n",
        "    axes[0].fill_between(train_sizes, test_scores_mean - test_scores_std,\n",
        "                         test_scores_mean + test_scores_std, alpha=0.1,\n",
        "                         color=\"g\")\n",
        "    axes[0].plot(train_sizes, train_scores_mean, 'o-', color=\"r\",\n",
        "                 label=\"Training score\")\n",
        "    axes[0].plot(train_sizes, test_scores_mean, 'o-', color=\"g\",\n",
        "                 label=\"Cross-validation score\")\n",
        "    axes[0].legend(loc=\"best\")\n",
        "\n",
        "    # Plot n_samples vs fit_times\n",
        "    axes[1].grid()\n",
        "    axes[1].plot(train_sizes, fit_times_mean, 'o-')\n",
        "    axes[1].fill_between(train_sizes, fit_times_mean - fit_times_std,\n",
        "                         fit_times_mean + fit_times_std, alpha=0.1)\n",
        "    axes[1].set_xlabel(\"Training examples\")\n",
        "    axes[1].set_ylabel(\"fit_times\")\n",
        "    axes[1].set_title(\"Scalability of the model\")\n",
        "\n",
        "    # Plot fit_time vs score\n",
        "    axes[2].grid()\n",
        "    axes[2].plot(fit_times_mean, test_scores_mean, 'o-')\n",
        "    axes[2].fill_between(fit_times_mean, test_scores_mean - test_scores_std,\n",
        "                         test_scores_mean + test_scores_std, alpha=0.1)\n",
        "    axes[2].set_xlabel(\"fit_times\")\n",
        "    axes[2].set_ylabel(\"Score\")\n",
        "    axes[2].set_title(\"Performance of the model\")\n",
        "\n",
        "    return plt"
      ],
      "execution_count": null,
      "outputs": []
    },
    {
      "cell_type": "code",
      "metadata": {
        "colab": {
          "base_uri": "https://localhost:8080/",
          "height": 216
        },
        "id": "aT5uLjWYijcz",
        "outputId": "fae19cd9-2a46-4095-807c-07dcdaa9401d"
      },
      "source": [
        "# Cross validation with 20 iterations, each time with 20% data randomly selected as a validation set\n",
        "title = \"Learning Curves - cent_price_corr (modelo 1)\"\n",
        "\n",
        "cv = ShuffleSplit(n_splits=20, test_size=0.3, random_state=0) \n",
        "plot_learning_curve(grid_1.best_estimator_, title, X_train, y1_train, cv=cv, n_jobs=-1)\n",
        "\n",
        "plt.show()"
      ],
      "execution_count": null,
      "outputs": [
        {
          "output_type": "display_data",
          "data": {
            "image/png": "[encoded data removed]",
            "text/plain": [
              "<Figure size 1440x360 with 3 Axes>"
            ]
          },
          "metadata": {
            "tags": [],
            "needs_background": "light"
          }
        }
      ]
    },
    {
      "cell_type": "code",
      "metadata": {
        "colab": {
          "base_uri": "https://localhost:8080/",
          "height": 216
        },
        "id": "0PBTfx8WeI2Z",
        "outputId": "e5fbb910-02e2-46a0-ca28-78bc8805b441"
      },
      "source": [
        "# Cross validation with 20 iterations, each time with 20% data randomly selected as a validation set\n",
        "title = \"Learning Curves - cent_trans_corr (modelo 2)\"\n",
        "\n",
        "cv = ShuffleSplit(n_splits=20, test_size=0.1, random_state=0) \n",
        "plot_learning_curve(grid_2.best_estimator_, title, X_train, y2_train, cv=cv, n_jobs=-1)\n",
        "\n",
        "plt.show()"
      ],
      "execution_count": null,
      "outputs": [
        {
          "output_type": "display_data",
          "data": {
            "image/png": "[encoded data removed]",
            "text/plain": [
              "<Figure size 1440x360 with 3 Axes>"
            ]
          },
          "metadata": {
            "tags": [],
            "needs_background": "light"
          }
        }
      ]
    },
    {
      "cell_type": "markdown",
      "metadata": {
        "id": "RrBbkF7Gd-TL"
      },
      "source": [
        "## Salvando arquivo"
      ]
    },
    {
      "cell_type": "code",
      "metadata": {
        "id": "BR2_4dVRa7Xh"
      },
      "source": [
        "df_sub = pd.DataFrame({'cent_price_cor': y1_pred_best, 'cent_trans_cor': y2_pred_best})"
      ],
      "execution_count": null,
      "outputs": []
    },
    {
      "cell_type": "code",
      "metadata": {
        "id": "6JfxLp4ziVcr",
        "colab": {
          "base_uri": "https://localhost:8080/"
        },
        "outputId": "4ae77947-5881-42ea-8c39-f89b8645ddf9"
      },
      "source": [
        "df_sub.shape"
      ],
      "execution_count": null,
      "outputs": [
        {
          "output_type": "execute_result",
          "data": {
            "text/plain": [
              "(8059, 2)"
            ]
          },
          "metadata": {
            "tags": []
          },
          "execution_count": 43
        }
      ]
    },
    {
      "cell_type": "code",
      "metadata": {
        "id": "wWa2rHOEbnQw",
        "colab": {
          "base_uri": "https://localhost:8080/",
          "height": 194
        },
        "outputId": "6f24eed4-2c21-4879-d112-84c6b5aecaff"
      },
      "source": [
        "df_sub.head()"
      ],
      "execution_count": null,
      "outputs": [
        {
          "output_type": "execute_result",
          "data": {
            "text/html": [
              "<div>\n",
              "<style scoped>\n",
              "    .dataframe tbody tr th:only-of-type {\n",
              "        vertical-align: middle;\n",
              "    }\n",
              "\n",
              "    .dataframe tbody tr th {\n",
              "        vertical-align: top;\n",
              "    }\n",
              "\n",
              "    .dataframe thead th {\n",
              "        text-align: right;\n",
              "    }\n",
              "</style>\n",
              "<table border=\"1\" class=\"dataframe\">\n",
              "  <thead>\n",
              "    <tr style=\"text-align: right;\">\n",
              "      <th></th>\n",
              "      <th>cent_price_cor</th>\n",
              "      <th>cent_trans_cor</th>\n",
              "    </tr>\n",
              "  </thead>\n",
              "  <tbody>\n",
              "    <tr>\n",
              "      <th>0</th>\n",
              "      <td>-0.202591</td>\n",
              "      <td>0.362586</td>\n",
              "    </tr>\n",
              "    <tr>\n",
              "      <th>1</th>\n",
              "      <td>-0.202591</td>\n",
              "      <td>0.362586</td>\n",
              "    </tr>\n",
              "    <tr>\n",
              "      <th>2</th>\n",
              "      <td>-0.202591</td>\n",
              "      <td>0.362586</td>\n",
              "    </tr>\n",
              "    <tr>\n",
              "      <th>3</th>\n",
              "      <td>-0.202591</td>\n",
              "      <td>0.362586</td>\n",
              "    </tr>\n",
              "    <tr>\n",
              "      <th>4</th>\n",
              "      <td>-0.202591</td>\n",
              "      <td>0.362586</td>\n",
              "    </tr>\n",
              "  </tbody>\n",
              "</table>\n",
              "</div>"
            ],
            "text/plain": [
              "   cent_price_cor  cent_trans_cor\n",
              "0       -0.202591        0.362586\n",
              "1       -0.202591        0.362586\n",
              "2       -0.202591        0.362586\n",
              "3       -0.202591        0.362586\n",
              "4       -0.202591        0.362586"
            ]
          },
          "metadata": {
            "tags": []
          },
          "execution_count": 44
        }
      ]
    },
    {
      "cell_type": "code",
      "metadata": {
        "id": "dl61_upE7hPE"
      },
      "source": [
        "# para arquivo submission_*.csv\n",
        "submission_save_path = '/content/drive/MyDrive/Competição_ITA/EquipeBust/ElasticNetCV_submission.csv'\n",
        "df_sub.to_csv(submission_save_path, index=False)"
      ],
      "execution_count": null,
      "outputs": []
    },
    {
      "cell_type": "markdown",
      "metadata": {
        "id": "90MeVVcEqlyY"
      },
      "source": [
        "## Submissão"
      ]
    },
    {
      "cell_type": "code",
      "metadata": {
        "colab": {
          "base_uri": "https://localhost:8080/"
        },
        "id": "ei_OlXwfqouC",
        "outputId": "66a50843-31f3-4140-9863-7275dc84c438"
      },
      "source": [
        "# Submetendo para o sistema\n",
        "# Apenas descomentar a linha abaixo quando for Submeter!\n",
        "\n",
        "%env SUBMISSION_FILE = /content/drive/MyDrive/Competição_ITA/EquipeBust/ElasticNetCV_submission.csv"
      ],
      "execution_count": null,
      "outputs": [
        {
          "output_type": "stream",
          "text": [
            "env: SUBMISSION_FILE=/content/drive/MyDrive/Competição_ITA/EquipeBust/ElasticNetCV_submission.csv\n"
          ],
          "name": "stdout"
        }
      ]
    },
    {
      "cell_type": "code",
      "metadata": {
        "colab": {
          "base_uri": "https://localhost:8080/"
        },
        "id": "1jU7ydH5J3dO",
        "outputId": "7716bc39-dac3-45b8-fb31-0eed94cdc702"
      },
      "source": [
        "!python -m datajudge-client --key $TEAM_KEY submit --input $SUBMISSION_FILE"
      ],
      "execution_count": null,
      "outputs": [
        {
          "output_type": "stream",
          "text": [
            "{'score': 0.1846, 'timestamp': '2021-05-13T15:38:44Z'}\n"
          ],
          "name": "stdout"
        }
      ]
    },
    {
      "cell_type": "code",
      "metadata": {
        "colab": {
          "base_uri": "https://localhost:8080/"
        },
        "id": "XjBIzQObvzwY",
        "outputId": "bc2860f3-a1a0-4a55-f08f-1e62cf559aad"
      },
      "source": [
        "# Checando o ranking\n",
        "!python -m datajudge-client --key $TEAM_KEY leaderboard --format '{team:30s} {score:10.6f} {timestamp}'"
      ],
      "execution_count": null,
      "outputs": [
        {
          "output_type": "stream",
          "text": [
            "AtLeastWeTried                   0.181273 2021-05-11T22:53:00Z\n",
            "Otakus do DataScience            0.184314 2021-05-13T12:44:07Z\n",
            "LSI Data Team                    0.184350 2021-05-13T13:10:33Z\n",
            "Gustavo Bertoli                  0.184409 2021-05-10T19:37:05Z\n",
            "Pandemonios                      0.184536 2021-05-07T00:26:35Z\n",
            "Bust UFSJ                        0.184600 2021-05-13T15:38:44Z\n",
            "Rama                             0.184644 2021-05-11T23:10:32Z\n",
            "Php                              0.184657 2021-05-11T12:32:49Z\n",
            "My Awesome Team                  0.184690 2021-05-10T12:22:44Z\n",
            "UFRJ Analytica                   0.184784 2021-05-12T00:34:10Z\n",
            "Victor P                         0.184836 2021-05-09T17:13:28Z\n",
            "Zangoes                          0.184985 2021-05-07T13:48:58Z\n",
            "Pyneapple                        0.186079 2021-05-10T20:45:49Z\n",
            "Marimbondos                      0.192275 2021-05-12T11:54:27Z\n",
            "ML UFSJ                          0.193519 2021-05-08T21:13:21Z\n",
            "Lucas Giusti                     0.195194 2021-05-06T21:32:07Z\n",
            "Kevin Scaccia                    0.212659 2021-05-13T00:59:52Z\n",
            "Lattes                                inf \n",
            "Thales                                inf \n",
            "AUTOMATA                              inf \n",
            "LUCCA NAVARRO BRAGA                   inf \n",
            "Data D                                inf \n",
            "Team Maia                             inf \n",
            "analise evolutiva                     inf \n",
            "Turing Delta                          inf \n",
            "3.1415926                             inf \n",
            "BigITA                                inf \n",
            "OCM                                   inf \n",
            "DATA G                                inf \n",
            "Sherlock Holmes                       inf \n",
            "Iamsuaandorinhamae                    inf \n",
            "Seanalytics                           inf \n",
            "Maracatu Atomico                      inf \n",
            "Arkro99                               inf \n",
            "Dev. Community Maua                   inf \n",
            "SugaDados                             inf \n"
          ],
          "name": "stdout"
        }
      ]
    },
    {
      "cell_type": "markdown",
      "metadata": {
        "id": "i2DInj3-NCnH"
      },
      "source": [
        "## Atualizando Submit_History"
      ]
    },
    {
      "cell_type": "code",
      "metadata": {
        "id": "c8VSv_nn4G4n"
      },
      "source": [
        "# Lendo o arquivo submit_history\n",
        "sub_hist_path = '/content/drive/MyDrive/Competição_ITA/submit_history.csv'\n",
        "subs = pd.read_csv(sub_hist_path)"
      ],
      "execution_count": null,
      "outputs": []
    },
    {
      "cell_type": "code",
      "metadata": {
        "colab": {
          "base_uri": "https://localhost:8080/",
          "height": 194
        },
        "id": "uAi-wjLjNehj",
        "outputId": "b8768d90-eb2a-4a8f-b17b-3f54a6c9b9aa"
      },
      "source": [
        "subs.head()"
      ],
      "execution_count": null,
      "outputs": [
        {
          "output_type": "execute_result",
          "data": {
            "text/html": [
              "<div>\n",
              "<style scoped>\n",
              "    .dataframe tbody tr th:only-of-type {\n",
              "        vertical-align: middle;\n",
              "    }\n",
              "\n",
              "    .dataframe tbody tr th {\n",
              "        vertical-align: top;\n",
              "    }\n",
              "\n",
              "    .dataframe thead th {\n",
              "        text-align: right;\n",
              "    }\n",
              "</style>\n",
              "<table border=\"1\" class=\"dataframe\">\n",
              "  <thead>\n",
              "    <tr style=\"text-align: right;\">\n",
              "      <th></th>\n",
              "      <th>Equipe</th>\n",
              "      <th>DataHora</th>\n",
              "      <th>Score</th>\n",
              "      <th>Descricao</th>\n",
              "      <th>Arquivo</th>\n",
              "    </tr>\n",
              "  </thead>\n",
              "  <tbody>\n",
              "    <tr>\n",
              "      <th>0</th>\n",
              "      <td>Bust</td>\n",
              "      <td>08-05-2021 13:44</td>\n",
              "      <td>0.186359</td>\n",
              "      <td>Teste da chave API</td>\n",
              "      <td>submission_test.csv</td>\n",
              "    </tr>\n",
              "    <tr>\n",
              "      <th>1</th>\n",
              "      <td>ML</td>\n",
              "      <td>08-05-2021 18:30</td>\n",
              "      <td>0.194000</td>\n",
              "      <td>Teste da chave API</td>\n",
              "      <td>NaN</td>\n",
              "    </tr>\n",
              "    <tr>\n",
              "      <th>2</th>\n",
              "      <td>Bust</td>\n",
              "      <td>10-05-2021 01:45</td>\n",
              "      <td>0.186359</td>\n",
              "      <td>Teste Método Paralelo</td>\n",
              "      <td>submission_HistGB_Prl.csv</td>\n",
              "    </tr>\n",
              "    <tr>\n",
              "      <th>3</th>\n",
              "      <td>Bust</td>\n",
              "      <td>10-05-2021 23:01</td>\n",
              "      <td>0.184598</td>\n",
              "      <td>Implem. GridSearch com HistGB Paralelo</td>\n",
              "      <td>submission_HistGB_Prl_Grid.csv</td>\n",
              "    </tr>\n",
              "    <tr>\n",
              "      <th>4</th>\n",
              "      <td>Bust</td>\n",
              "      <td>12-05-2021 11:39</td>\n",
              "      <td>0.185021</td>\n",
              "      <td>GridSearch com HistGB Sequencial</td>\n",
              "      <td>sub_HistGB_Seq_Grid.csv</td>\n",
              "    </tr>\n",
              "  </tbody>\n",
              "</table>\n",
              "</div>"
            ],
            "text/plain": [
              "  Equipe  ...                         Arquivo\n",
              "0   Bust  ...             submission_test.csv\n",
              "1     ML  ...                             NaN\n",
              "2   Bust  ...       submission_HistGB_Prl.csv\n",
              "3   Bust  ...  submission_HistGB_Prl_Grid.csv\n",
              "4   Bust  ...         sub_HistGB_Seq_Grid.csv\n",
              "\n",
              "[5 rows x 5 columns]"
            ]
          },
          "metadata": {
            "tags": []
          },
          "execution_count": 52
        }
      ]
    },
    {
      "cell_type": "code",
      "metadata": {
        "colab": {
          "base_uri": "https://localhost:8080/",
          "height": 223
        },
        "id": "6PdQnJC1NgCi",
        "outputId": "1f389f56-7a7a-432b-9e92-d841ffdeb84b"
      },
      "source": [
        "# Dados sobre o submit a ser inserido no arquivo\n",
        "input_submit = {\n",
        "    'Equipe':     'Bust',\n",
        "    'DataHora':   '13-05-2021 12:38',\n",
        "    'Score':       0.184600,\n",
        "    'Descricao':  'GridSearch com ElasticNetCV Paralelo',\n",
        "    'Arquivo':    'ElasticNetCV_submission.csv'\n",
        "}\n",
        "subs.append(input_submit, ignore_index=True)"
      ],
      "execution_count": null,
      "outputs": [
        {
          "output_type": "execute_result",
          "data": {
            "text/html": [
              "<div>\n",
              "<style scoped>\n",
              "    .dataframe tbody tr th:only-of-type {\n",
              "        vertical-align: middle;\n",
              "    }\n",
              "\n",
              "    .dataframe tbody tr th {\n",
              "        vertical-align: top;\n",
              "    }\n",
              "\n",
              "    .dataframe thead th {\n",
              "        text-align: right;\n",
              "    }\n",
              "</style>\n",
              "<table border=\"1\" class=\"dataframe\">\n",
              "  <thead>\n",
              "    <tr style=\"text-align: right;\">\n",
              "      <th></th>\n",
              "      <th>Equipe</th>\n",
              "      <th>DataHora</th>\n",
              "      <th>Score</th>\n",
              "      <th>Descricao</th>\n",
              "      <th>Arquivo</th>\n",
              "    </tr>\n",
              "  </thead>\n",
              "  <tbody>\n",
              "    <tr>\n",
              "      <th>0</th>\n",
              "      <td>Bust</td>\n",
              "      <td>08-05-2021 13:44</td>\n",
              "      <td>0.186359</td>\n",
              "      <td>Teste da chave API</td>\n",
              "      <td>submission_test.csv</td>\n",
              "    </tr>\n",
              "    <tr>\n",
              "      <th>1</th>\n",
              "      <td>ML</td>\n",
              "      <td>08-05-2021 18:30</td>\n",
              "      <td>0.194000</td>\n",
              "      <td>Teste da chave API</td>\n",
              "      <td>NaN</td>\n",
              "    </tr>\n",
              "    <tr>\n",
              "      <th>2</th>\n",
              "      <td>Bust</td>\n",
              "      <td>10-05-2021 01:45</td>\n",
              "      <td>0.186359</td>\n",
              "      <td>Teste Método Paralelo</td>\n",
              "      <td>submission_HistGB_Prl.csv</td>\n",
              "    </tr>\n",
              "    <tr>\n",
              "      <th>3</th>\n",
              "      <td>Bust</td>\n",
              "      <td>10-05-2021 23:01</td>\n",
              "      <td>0.184598</td>\n",
              "      <td>Implem. GridSearch com HistGB Paralelo</td>\n",
              "      <td>submission_HistGB_Prl_Grid.csv</td>\n",
              "    </tr>\n",
              "    <tr>\n",
              "      <th>4</th>\n",
              "      <td>Bust</td>\n",
              "      <td>12-05-2021 11:39</td>\n",
              "      <td>0.185021</td>\n",
              "      <td>GridSearch com HistGB Sequencial</td>\n",
              "      <td>sub_HistGB_Seq_Grid.csv</td>\n",
              "    </tr>\n",
              "    <tr>\n",
              "      <th>5</th>\n",
              "      <td>Bust</td>\n",
              "      <td>13-05-2021 12:38</td>\n",
              "      <td>0.184600</td>\n",
              "      <td>GridSearch com ElasticNetCV Paralelo</td>\n",
              "      <td>ElasticNetCV_submission.csv</td>\n",
              "    </tr>\n",
              "  </tbody>\n",
              "</table>\n",
              "</div>"
            ],
            "text/plain": [
              "  Equipe  ...                         Arquivo\n",
              "0   Bust  ...             submission_test.csv\n",
              "1     ML  ...                             NaN\n",
              "2   Bust  ...       submission_HistGB_Prl.csv\n",
              "3   Bust  ...  submission_HistGB_Prl_Grid.csv\n",
              "4   Bust  ...         sub_HistGB_Seq_Grid.csv\n",
              "5   Bust  ...     ElasticNetCV_submission.csv\n",
              "\n",
              "[6 rows x 5 columns]"
            ]
          },
          "metadata": {
            "tags": []
          },
          "execution_count": 53
        }
      ]
    },
    {
      "cell_type": "code",
      "metadata": {
        "id": "T3gCl1gTREP9"
      },
      "source": [
        "# Salvando o arquivo submit_history\n",
        "subs.to_csv(sub_hist_path, index=False)"
      ],
      "execution_count": null,
      "outputs": []
    },
    {
      "cell_type": "code",
      "metadata": {
        "id": "68OTuV4NRmFy"
      },
      "source": [
        ""
      ],
      "execution_count": null,
      "outputs": []
    }
  ]
}